{
 "cells": [
  {
   "cell_type": "code",
   "execution_count": 3,
   "id": "b30c48ae",
   "metadata": {},
   "outputs": [],
   "source": [
    "import mysql.connector as conn"
   ]
  },
  {
   "cell_type": "code",
   "execution_count": 6,
   "id": "a15feb6d",
   "metadata": {},
   "outputs": [],
   "source": [
    "mydb=conn.connect(host='127.0.0.1',user='root',passwd=\"\")"
   ]
  },
  {
   "cell_type": "code",
   "execution_count": 38,
   "id": "263e359e",
   "metadata": {},
   "outputs": [
    {
     "data": {
      "text/plain": [
       "<mysql.connector.connection_cext.CMySQLConnection at 0x20a09021000>"
      ]
     },
     "execution_count": 38,
     "metadata": {},
     "output_type": "execute_result"
    }
   ],
   "source": [
    "mydb"
   ]
  },
  {
   "cell_type": "code",
   "execution_count": 39,
   "id": "169e5c7e",
   "metadata": {},
   "outputs": [],
   "source": [
    "cursor=mydb.cursor()"
   ]
  },
  {
   "cell_type": "code",
   "execution_count": 9,
   "id": "36cdd0db",
   "metadata": {},
   "outputs": [],
   "source": [
    "cursor.execute(\"show databases\")"
   ]
  },
  {
   "cell_type": "code",
   "execution_count": 10,
   "id": "e52e7f90",
   "metadata": {},
   "outputs": [
    {
     "data": {
      "text/plain": [
       "[('information_schema',), ('mysql',), ('performance_schema',)]"
      ]
     },
     "execution_count": 10,
     "metadata": {},
     "output_type": "execute_result"
    }
   ],
   "source": [
    "cursor.fetchall()"
   ]
  },
  {
   "cell_type": "code",
   "execution_count": 11,
   "id": "6d1f8d45",
   "metadata": {},
   "outputs": [],
   "source": [
    "cursor=mydb.cursor()"
   ]
  },
  {
   "cell_type": "code",
   "execution_count": 12,
   "id": "3bf46dc3",
   "metadata": {},
   "outputs": [],
   "source": [
    "cursor.execute(\"create database testineuron\")"
   ]
  },
  {
   "cell_type": "code",
   "execution_count": 13,
   "id": "7bd150ae",
   "metadata": {},
   "outputs": [],
   "source": [
    "cursor.execute('create table testineuron.niraj(studentID INT(10),firstname varchar(255),lastname varchar(255),regid INT(20), classname varchar(255))')"
   ]
  },
  {
   "cell_type": "code",
   "execution_count": 14,
   "id": "93a3c27d",
   "metadata": {},
   "outputs": [],
   "source": [
    "cursor.execute('use testineuron')"
   ]
  },
  {
   "cell_type": "code",
   "execution_count": 15,
   "id": "7e8df1e9",
   "metadata": {},
   "outputs": [],
   "source": [
    "cursor.execute('show tables')"
   ]
  },
  {
   "cell_type": "code",
   "execution_count": 16,
   "id": "e6e6438e",
   "metadata": {},
   "outputs": [
    {
     "data": {
      "text/plain": [
       "[('niraj',)]"
      ]
     },
     "execution_count": 16,
     "metadata": {},
     "output_type": "execute_result"
    }
   ],
   "source": [
    "cursor.fetchall()"
   ]
  },
  {
   "cell_type": "code",
   "execution_count": 18,
   "id": "f3dea38a",
   "metadata": {},
   "outputs": [],
   "source": [
    "cursor.execute('insert into testineuron.niraj values(1234567,\"Niraj\",\"sharma\",223345,\"FSDS\")')"
   ]
  },
  {
   "cell_type": "code",
   "execution_count": 19,
   "id": "93f05ae3",
   "metadata": {},
   "outputs": [],
   "source": [
    "mydb.commit()"
   ]
  },
  {
   "cell_type": "code",
   "execution_count": 20,
   "id": "2746a994",
   "metadata": {},
   "outputs": [],
   "source": [
    "cursor.execute(\"select* from testineuron.niraj\")"
   ]
  },
  {
   "cell_type": "code",
   "execution_count": 21,
   "id": "8522cfb8",
   "metadata": {},
   "outputs": [
    {
     "data": {
      "text/plain": [
       "[(1234567, 'Niraj', 'sharma', 223345, 'FSDS')]"
      ]
     },
     "execution_count": 21,
     "metadata": {},
     "output_type": "execute_result"
    }
   ],
   "source": [
    "cursor.fetchall()"
   ]
  },
  {
   "cell_type": "code",
   "execution_count": 22,
   "id": "5aad83c5",
   "metadata": {},
   "outputs": [],
   "source": [
    "cursor.execute('create table testineuron.glassdata(col1 INT(10),col2 float(10,5),col3 float(10,5),col4 float(10,5),col5 float(10,5),col6 float(10,5),col7 float(10,5),col8 float(10,5), col9 float(10,5),col10 float(10,5),col11 INT(10))')"
   ]
  },
  {
   "cell_type": "code",
   "execution_count": 23,
   "id": "5b5d341b",
   "metadata": {},
   "outputs": [],
   "source": [
    "cursor.execute('use testineuron')"
   ]
  },
  {
   "cell_type": "code",
   "execution_count": 24,
   "id": "9941bb6c",
   "metadata": {},
   "outputs": [],
   "source": [
    "cursor.execute('show tables')"
   ]
  },
  {
   "cell_type": "code",
   "execution_count": 25,
   "id": "f4114dd0",
   "metadata": {},
   "outputs": [
    {
     "data": {
      "text/plain": [
       "[('glassdata',), ('niraj',)]"
      ]
     },
     "execution_count": 25,
     "metadata": {},
     "output_type": "execute_result"
    }
   ],
   "source": [
    "cursor.fetchall()"
   ]
  },
  {
   "cell_type": "code",
   "execution_count": 30,
   "id": "98f00d6c",
   "metadata": {},
   "outputs": [],
   "source": [
    "cursor.execute('insert into testineuron.glassdata values(1,1.52101,13.64,4.49,1.10,71.78,0.06,8.75,0.00,0.00,1)')"
   ]
  },
  {
   "cell_type": "code",
   "execution_count": 31,
   "id": "e59aceab",
   "metadata": {},
   "outputs": [],
   "source": [
    "mydb.commit()"
   ]
  },
  {
   "cell_type": "code",
   "execution_count": 32,
   "id": "49c8107d",
   "metadata": {},
   "outputs": [],
   "source": [
    "cursor.execute('select* from testineuron.glassdata')"
   ]
  },
  {
   "cell_type": "code",
   "execution_count": 33,
   "id": "1b48c976",
   "metadata": {},
   "outputs": [
    {
     "data": {
      "text/plain": [
       "[(1, 1.52101, 13.64, 4.49, 1.1, 71.78, 0.06, 8.75, 0.0, 0.0, 1)]"
      ]
     },
     "execution_count": 33,
     "metadata": {},
     "output_type": "execute_result"
    }
   ],
   "source": [
    "cursor.fetchall()"
   ]
  },
  {
   "cell_type": "code",
   "execution_count": 45,
   "id": "3d2f020f",
   "metadata": {},
   "outputs": [],
   "source": [
    "cursor.execute(\"show databases\")"
   ]
  },
  {
   "cell_type": "code",
   "execution_count": 63,
   "id": "57879051",
   "metadata": {},
   "outputs": [
    {
     "data": {
      "text/plain": [
       "[]"
      ]
     },
     "execution_count": 63,
     "metadata": {},
     "output_type": "execute_result"
    }
   ],
   "source": [
    "cursor.fetchall()"
   ]
  },
  {
   "cell_type": "code",
   "execution_count": 56,
   "id": "a2543403",
   "metadata": {},
   "outputs": [],
   "source": [
    "cursor.execute('insert into testineuron.glassdata values(1,1.52101,13.64,4.59,1.10,61.78,0.06,8.45,0.00,2.40,1)')"
   ]
  },
  {
   "cell_type": "code",
   "execution_count": 65,
   "id": "a63d629d",
   "metadata": {},
   "outputs": [],
   "source": [
    "mydb.commit()"
   ]
  },
  {
   "cell_type": "code",
   "execution_count": 58,
   "id": "4570ed8c",
   "metadata": {},
   "outputs": [],
   "source": [
    "cursor.execute('select* from testineuron.glassdata')"
   ]
  },
  {
   "cell_type": "code",
   "execution_count": 66,
   "id": "0d4426cb",
   "metadata": {},
   "outputs": [
    {
     "data": {
      "text/plain": [
       "[]"
      ]
     },
     "execution_count": 66,
     "metadata": {},
     "output_type": "execute_result"
    }
   ],
   "source": [
    "cursor.fetchall()"
   ]
  },
  {
   "cell_type": "code",
   "execution_count": 67,
   "id": "08773a3c",
   "metadata": {},
   "outputs": [],
   "source": [
    "cursor.execute('use testineuron')"
   ]
  },
  {
   "cell_type": "code",
   "execution_count": 68,
   "id": "50f0913d",
   "metadata": {},
   "outputs": [],
   "source": [
    "cursor.execute('show tables')"
   ]
  },
  {
   "cell_type": "code",
   "execution_count": 69,
   "id": "5565800c",
   "metadata": {},
   "outputs": [
    {
     "data": {
      "text/plain": [
       "[('glassdata',), ('niraj',)]"
      ]
     },
     "execution_count": 69,
     "metadata": {},
     "output_type": "execute_result"
    }
   ],
   "source": [
    "cursor.fetchall()"
   ]
  },
  {
   "cell_type": "code",
   "execution_count": 70,
   "id": "8f4b28df",
   "metadata": {},
   "outputs": [],
   "source": [
    "cursor.execute('select* from testineuron.glassdata')"
   ]
  },
  {
   "cell_type": "code",
   "execution_count": 71,
   "id": "0fdb1694",
   "metadata": {},
   "outputs": [
    {
     "data": {
      "text/plain": [
       "[(1, 1.52101, 13.64, 4.49, 1.1, 71.78, 0.06, 8.75, 0.0, 0.0, 1),\n",
       " (1, 1.52101, 13.64, 4.59, 1.1, 61.78, 0.06, 8.45, 0.0, 2.4, 1),\n",
       " (1, 1.52101, 13.64, 4.59, 1.1, 61.78, 0.06, 8.45, 0.0, 2.4, 1),\n",
       " (24, 1.51751, 12.81, 3.57, 1.35, 73.02, 0.62, 8.59, 0.0, 0.0, 1),\n",
       " (24, 1.51751, 12.81, 3.57, 1.35, 73.02, 0.62, 8.59, 0.0, 0.0, 1),\n",
       " (22, 1.51966, 14.77, 3.75, 0.29, 72.02, 0.03, 9.0, 0.0, 0.0, 1),\n",
       " (21, 1.5175, 12.82, 3.55, 1.49, 72.75, 0.54, 8.52, 0.0, 0.19, 1),\n",
       " (18, 1.52196, 14.36, 3.85, 0.89, 71.36, 0.15, 9.15, 0.0, 0.0, 1)]"
      ]
     },
     "execution_count": 71,
     "metadata": {},
     "output_type": "execute_result"
    }
   ],
   "source": [
    "cursor.fetchall()"
   ]
  },
  {
   "cell_type": "code",
   "execution_count": 72,
   "id": "9874d1b7",
   "metadata": {},
   "outputs": [],
   "source": [
    "cursor.execute(\"select col3,col4,col5 from testineuron.glassdata\")"
   ]
  },
  {
   "cell_type": "code",
   "execution_count": 73,
   "id": "2a087e1d",
   "metadata": {},
   "outputs": [
    {
     "data": {
      "text/plain": [
       "[(13.64, 4.49, 1.1),\n",
       " (13.64, 4.59, 1.1),\n",
       " (13.64, 4.59, 1.1),\n",
       " (12.81, 3.57, 1.35),\n",
       " (12.81, 3.57, 1.35),\n",
       " (14.77, 3.75, 0.29),\n",
       " (12.82, 3.55, 1.49),\n",
       " (14.36, 3.85, 0.89)]"
      ]
     },
     "execution_count": 73,
     "metadata": {},
     "output_type": "execute_result"
    }
   ],
   "source": [
    "cursor.fetchall()"
   ]
  },
  {
   "cell_type": "code",
   "execution_count": 74,
   "id": "41da17ca",
   "metadata": {},
   "outputs": [],
   "source": [
    "cursor.execute(\"select * from testineuron.glassdata where col1>=20\")"
   ]
  },
  {
   "cell_type": "code",
   "execution_count": 75,
   "id": "8b1ed370",
   "metadata": {},
   "outputs": [
    {
     "data": {
      "text/plain": [
       "[(24, 1.51751, 12.81, 3.57, 1.35, 73.02, 0.62, 8.59, 0.0, 0.0, 1),\n",
       " (24, 1.51751, 12.81, 3.57, 1.35, 73.02, 0.62, 8.59, 0.0, 0.0, 1),\n",
       " (22, 1.51966, 14.77, 3.75, 0.29, 72.02, 0.03, 9.0, 0.0, 0.0, 1),\n",
       " (21, 1.5175, 12.82, 3.55, 1.49, 72.75, 0.54, 8.52, 0.0, 0.19, 1)]"
      ]
     },
     "execution_count": 75,
     "metadata": {},
     "output_type": "execute_result"
    }
   ],
   "source": [
    "cursor.fetchall()"
   ]
  },
  {
   "cell_type": "code",
   "execution_count": 81,
   "id": "83ee0595",
   "metadata": {},
   "outputs": [],
   "source": [
    "cursor.execute(\"update testineuron.glassdata set col1=6,col2=8 where col1>20 \")"
   ]
  },
  {
   "cell_type": "code",
   "execution_count": 82,
   "id": "93d244ea",
   "metadata": {},
   "outputs": [],
   "source": [
    "mydb.commit()"
   ]
  },
  {
   "cell_type": "raw",
   "id": "a1e235c3",
   "metadata": {},
   "source": [
    "cursor.execute(\"select * from testineuron.glassdata\")"
   ]
  },
  {
   "cell_type": "code",
   "execution_count": 83,
   "id": "75fd9f3a",
   "metadata": {},
   "outputs": [],
   "source": [
    "cursor.execute(\"select * from testineuron.glassdata\")"
   ]
  },
  {
   "cell_type": "code",
   "execution_count": 84,
   "id": "87cc59a8",
   "metadata": {},
   "outputs": [
    {
     "data": {
      "text/plain": [
       "[(1, 1.52101, 13.64, 4.49, 1.1, 71.78, 0.06, 8.75, 0.0, 0.0, 1),\n",
       " (1, 1.52101, 13.64, 4.59, 1.1, 61.78, 0.06, 8.45, 0.0, 2.4, 1),\n",
       " (1, 1.52101, 13.64, 4.59, 1.1, 61.78, 0.06, 8.45, 0.0, 2.4, 1),\n",
       " (6, 8.0, 12.81, 3.57, 1.35, 73.02, 0.62, 8.59, 0.0, 0.0, 1),\n",
       " (6, 8.0, 12.81, 3.57, 1.35, 73.02, 0.62, 8.59, 0.0, 0.0, 1),\n",
       " (6, 8.0, 14.77, 3.75, 0.29, 72.02, 0.03, 9.0, 0.0, 0.0, 1),\n",
       " (18, 1.52196, 14.36, 3.85, 0.89, 71.36, 0.15, 9.15, 0.0, 0.0, 1)]"
      ]
     },
     "execution_count": 84,
     "metadata": {},
     "output_type": "execute_result"
    }
   ],
   "source": [
    "cursor.fetchall()"
   ]
  },
  {
   "cell_type": "code",
   "execution_count": 86,
   "id": "d8302a61",
   "metadata": {},
   "outputs": [],
   "source": [
    "cursor.execute(\"select count(col1) ,col2   from testineuron.glassdata group by col1  \")"
   ]
  },
  {
   "cell_type": "code",
   "execution_count": 87,
   "id": "7a7a2230",
   "metadata": {},
   "outputs": [
    {
     "data": {
      "text/plain": [
       "[(3, 1.52101), (3, 8.0), (1, 1.52196)]"
      ]
     },
     "execution_count": 87,
     "metadata": {},
     "output_type": "execute_result"
    }
   ],
   "source": [
    "cursor.fetchall()"
   ]
  },
  {
   "cell_type": "code",
   "execution_count": 88,
   "id": "af4eeb00",
   "metadata": {},
   "outputs": [],
   "source": [
    "cursor.execute(\"select col1 , count(*)  from testineuron.glassdata group by col1 order by col1\")"
   ]
  },
  {
   "cell_type": "code",
   "execution_count": 89,
   "id": "9e7a88d5",
   "metadata": {},
   "outputs": [
    {
     "data": {
      "text/plain": [
       "[(1, 3), (6, 3), (18, 1)]"
      ]
     },
     "execution_count": 89,
     "metadata": {},
     "output_type": "execute_result"
    }
   ],
   "source": [
    "cursor.fetchall()"
   ]
  },
  {
   "cell_type": "code",
   "execution_count": 90,
   "id": "abc39aef",
   "metadata": {},
   "outputs": [],
   "source": [
    "cursor.execute(\"select * from testineuron.glassdata where col1 = 6\")"
   ]
  },
  {
   "cell_type": "code",
   "execution_count": 91,
   "id": "fd791d54",
   "metadata": {},
   "outputs": [
    {
     "data": {
      "text/plain": [
       "[(6, 8.0, 12.81, 3.57, 1.35, 73.02, 0.62, 8.59, 0.0, 0.0, 1),\n",
       " (6, 8.0, 12.81, 3.57, 1.35, 73.02, 0.62, 8.59, 0.0, 0.0, 1),\n",
       " (6, 8.0, 14.77, 3.75, 0.29, 72.02, 0.03, 9.0, 0.0, 0.0, 1)]"
      ]
     },
     "execution_count": 91,
     "metadata": {},
     "output_type": "execute_result"
    }
   ],
   "source": [
    "cursor.fetchall()"
   ]
  },
  {
   "cell_type": "code",
   "execution_count": null,
   "id": "1e30a0e2",
   "metadata": {},
   "outputs": [],
   "source": []
  }
 ],
 "metadata": {
  "kernelspec": {
   "display_name": "Python 3 (ipykernel)",
   "language": "python",
   "name": "python3"
  },
  "language_info": {
   "codemirror_mode": {
    "name": "ipython",
    "version": 3
   },
   "file_extension": ".py",
   "mimetype": "text/x-python",
   "name": "python",
   "nbconvert_exporter": "python",
   "pygments_lexer": "ipython3",
   "version": "3.10.1"
  }
 },
 "nbformat": 4,
 "nbformat_minor": 5
}
